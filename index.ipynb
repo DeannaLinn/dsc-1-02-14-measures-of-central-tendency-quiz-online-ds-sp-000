{
 "cells": [
  {
   "cell_type": "markdown",
   "metadata": {},
   "source": [
    "# Measures of Central Tendency - Quiz\n",
    "\n",
    "## Objectives\n",
    "You will be able to:\n",
    "* Understand and describe the significance of measuring central tendency of continuous data\n",
    "* Understand the formula and intuition behind the mean, median, mode and modal class\n",
    "* Compare mean-median-mode, along with histograms to explain the central tendency of given data"
   ]
  },
  {
   "cell_type": "markdown",
   "metadata": {},
   "source": [
    "### Exercise 1\n",
    "Calculate the mean, median and mode for this data set: \n",
    "```\n",
    "19, 18, 21, 16, 15, 17, 20, 18\n",
    "```\n",
    "While comparing the results of three measures, comment about this distribution. "
   ]
  },
  {
   "cell_type": "code",
   "execution_count": 27,
   "metadata": {},
   "outputs": [
    {
     "name": "stdout",
     "output_type": "stream",
     "text": [
      "The mean is 18.0\n",
      "the median is 18.0\n",
      "The mode is 18\n"
     ]
    }
   ],
   "source": [
    "import numpy as np\n",
    "import statistics as stats\n",
    "\n",
    "#mean\n",
    "\n",
    "numbers_list =[19, 18, 21, 16, 15, 17, 20, 18]\n",
    "\n",
    "mean = np.mean(numbers_list)\n",
    "print ('The mean is', mean)\n",
    "\n",
    "median = np.median(numbers_list)\n",
    "print('the median is', median)\n",
    "\n",
    "mode = stats.mode(numbers_list)\n",
    "print ('The mode is', mode)\n"
   ]
  },
  {
   "cell_type": "markdown",
   "metadata": {},
   "source": [
    "### Exercise 2\n",
    "\n",
    "Calculate the mean, median and mode for given distribution and state which of these measures does not describe the \"middle\" of this data set? and why ?\n",
    "```\n",
    "100, 99, 97, 97, 96, 98, 95, 72\n",
    "```"
   ]
  },
  {
   "cell_type": "code",
   "execution_count": 28,
   "metadata": {},
   "outputs": [
    {
     "name": "stdout",
     "output_type": "stream",
     "text": [
      "The mean is 94.25\n",
      "the median is 97.0\n",
      "The mode is 97\n",
      "the mean does not represent the middle of this data set because there is low outlier that brings the mean value down\n"
     ]
    }
   ],
   "source": [
    "given_distribution = [100, 99, 97, 97, 96, 98, 95, 72]\n",
    "\n",
    "mean = np.mean(given_distribution)\n",
    "print ('The mean is', mean)\n",
    "\n",
    "median = np.median(given_distribution)\n",
    "print('the median is', median)\n",
    "\n",
    "mode = stats.mode(given_distribution)\n",
    "print ('The mode is', mode)\n",
    "\n",
    "print( 'the mean does not represent the middle of this data set because there is low outlier that brings the mean value down')"
   ]
  },
  {
   "cell_type": "markdown",
   "metadata": {},
   "source": [
    "### Exercise 3\n",
    "On the first three days of his bookshop opening, Joe sold 15, 18, and 16 books (He initially hoped that he would sell 17 books every day).  How many books does he need to sell on the next day to have a mean sale of 17?"
   ]
  },
  {
   "cell_type": "code",
   "execution_count": 31,
   "metadata": {},
   "outputs": [
    {
     "name": "stdout",
     "output_type": "stream",
     "text": [
      "Joe must sell 19 books on the fourth day\n"
     ]
    }
   ],
   "source": [
    "books_sold = [15, 18, 16]\n",
    "\n",
    "mean_fourth_day = 17\n",
    "\n",
    "next_day_sale = (mean_fourth_day * (len(books_sold)+1)) - sum(books_sold)\n",
    "print ('Joe must sell', next_day_sale, 'books on the fourth day')\n",
    "\n"
   ]
  },
  {
   "cell_type": "markdown",
   "metadata": {},
   "source": [
    "### Exercise 4\n",
    "The histograms show the amount of time (hours per day) spent on Facebook by 46 middle school girls and 40 middle school boys from a school in San Francisco. A total of 50 boys and 50 girls took the survey, 4 girls and 10 boys did not use Facebook at all. \n",
    "Each is graphed with a bin width of 0.25 hours.\n",
    "\n",
    "![](boys.png)\n",
    "![](girls.png)\n",
    "\n",
    "Looking at these histograms, answer following questions. \n",
    "\n",
    "*Hint: For most parts, you will have to figure out the location of required bins and count the frequencies. *\n",
    "\n",
    "#### How many boys spend more than 1.5 hours/day on Facebook?\n"
   ]
  },
  {
   "cell_type": "code",
   "execution_count": 33,
   "metadata": {},
   "outputs": [
    {
     "name": "stdout",
     "output_type": "stream",
     "text": [
      "8 boys spend more than 1.5 hours a day on Facebook\n"
     ]
    }
   ],
   "source": [
    "print('8 boys spend more than 1.5 hours a day on Facebook')"
   ]
  },
  {
   "cell_type": "markdown",
   "metadata": {},
   "source": [
    "#### Compare the percentage of boys and girls that spend more than zero but less than 1 hour/day on Facebook."
   ]
  },
  {
   "cell_type": "code",
   "execution_count": 48,
   "metadata": {},
   "outputs": [
    {
     "name": "stdout",
     "output_type": "stream",
     "text": [
      "24.0 % of girls spend more than zero but less than one hour a day on facebook compared to 40.0 % of boys\n"
     ]
    }
   ],
   "source": [
    "boys_less_than_one_hour = [1, 6, 9, 4]\n",
    "girls_less_than_one_hour = [1, 4,3, 2, 2]\n",
    "\n",
    "percentage_boys = (sum(boys_less_than_one_hour)/50)*100\n",
    "percentage_girls = (sum(girls_less_than_one_hour)/50)*100\n",
    "\n",
    "print (percentage_girls, '% of girls spend more than zero but less than one hour a day on facebook compared to', percentage_boys, '% of boys')"
   ]
  },
  {
   "cell_type": "markdown",
   "metadata": {},
   "source": [
    "#### Find the bin where the median of the boys' data set lies."
   ]
  },
  {
   "cell_type": "code",
   "execution_count": 56,
   "metadata": {},
   "outputs": [
    {
     "name": "stdout",
     "output_type": "stream",
     "text": [
      "The bin where the median of the boys data lies is 1.5 to 1.75\n"
     ]
    }
   ],
   "source": [
    "number_of_boys = [10, 1, 6, 9, 4, 7, 5, 5, 3]\n",
    "\n",
    "center = sum(number_of_boys)/2\n",
    "\n",
    "print('The bin where the median of the boys data lies is 1.5 to 1.75')"
   ]
  },
  {
   "cell_type": "markdown",
   "metadata": {},
   "source": [
    "#### In terms of Facebook usage times based on given data, what can you conclude about usage habits of boys and girls?"
   ]
  },
  {
   "cell_type": "code",
   "execution_count": 51,
   "metadata": {},
   "outputs": [
    {
     "name": "stdout",
     "output_type": "stream",
     "text": [
      "Girls are more likely to spend more time on Facebook\n"
     ]
    }
   ],
   "source": [
    "print ('Girls are more likely to spend more time on Facebook')"
   ]
  }
 ],
 "metadata": {
  "kernelspec": {
   "display_name": "Python 3",
   "language": "python",
   "name": "python3"
  },
  "language_info": {
   "codemirror_mode": {
    "name": "ipython",
    "version": 3
   },
   "file_extension": ".py",
   "mimetype": "text/x-python",
   "name": "python",
   "nbconvert_exporter": "python",
   "pygments_lexer": "ipython3",
   "version": "3.6.4"
  }
 },
 "nbformat": 4,
 "nbformat_minor": 2
}
